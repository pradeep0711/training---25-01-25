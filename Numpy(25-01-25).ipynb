{
 "cells": [
  {
   "cell_type": "code",
   "execution_count": 1,
   "id": "2d59cbf5",
   "metadata": {},
   "outputs": [
    {
     "data": {
      "text/plain": [
       "'\\nNUMPY INSTALLATION AND \\n'"
      ]
     },
     "execution_count": 1,
     "metadata": {},
     "output_type": "execute_result"
    }
   ],
   "source": [
    "'''\n",
    "NUMPY INSTALLATION AND \n",
    "'''"
   ]
  },
  {
   "cell_type": "code",
   "execution_count": 2,
   "id": "36613974",
   "metadata": {},
   "outputs": [
    {
     "name": "stdout",
     "output_type": "stream",
     "text": [
      "Requirement already satisfied: numpy in c:\\users\\cvr\\anaconda3\\lib\\site-packages (1.24.3)\n"
     ]
    }
   ],
   "source": [
    "!pip install numpy"
   ]
  },
  {
   "cell_type": "code",
   "execution_count": 81,
   "id": "37c30c06",
   "metadata": {},
   "outputs": [],
   "source": [
    "import numpy as np\n",
    "import seaborn as sns\n",
    "import matplotlib.pyplot as plt"
   ]
  },
  {
   "cell_type": "code",
   "execution_count": 9,
   "id": "7e80e6d2",
   "metadata": {},
   "outputs": [
    {
     "name": "stdout",
     "output_type": "stream",
     "text": [
      "1D array :[1 2 3 4]\n"
     ]
    }
   ],
   "source": [
    "#1d array\n",
    "arr_1d = np.array([1,2,3,4])\n",
    "print(f\"1D array :{arr_1d}\")"
   ]
  },
  {
   "cell_type": "code",
   "execution_count": 11,
   "id": "1e897f04",
   "metadata": {},
   "outputs": [
    {
     "name": "stdout",
     "output_type": "stream",
     "text": [
      "2D array is : [[ 1  2  3  4]\n",
      " [20 22 23 24]]\n"
     ]
    }
   ],
   "source": [
    "#2d array\n",
    "arr_2d = np.array([[1,2,3,4],[20,22,23,24]])\n",
    "print(f\"2D array is : {arr_2d}\")"
   ]
  },
  {
   "cell_type": "code",
   "execution_count": 15,
   "id": "28d2d9cd",
   "metadata": {},
   "outputs": [
    {
     "name": "stdout",
     "output_type": "stream",
     "text": [
      "[[0. 0. 0.]\n",
      " [0. 0. 0.]]\n"
     ]
    }
   ],
   "source": [
    "z = np.zeros((2,3))\n",
    "print(z)"
   ]
  },
  {
   "cell_type": "code",
   "execution_count": 16,
   "id": "e344ef74",
   "metadata": {},
   "outputs": [
    {
     "name": "stdout",
     "output_type": "stream",
     "text": [
      "[[1. 1. 1.]\n",
      " [1. 1. 1.]]\n"
     ]
    }
   ],
   "source": [
    "z = np.ones((2,3))\n",
    "print(z)"
   ]
  },
  {
   "cell_type": "code",
   "execution_count": 18,
   "id": "5b89f98d",
   "metadata": {},
   "outputs": [
    {
     "name": "stdout",
     "output_type": "stream",
     "text": [
      "2\n"
     ]
    }
   ],
   "source": [
    "print(np.ndim(z))"
   ]
  },
  {
   "cell_type": "code",
   "execution_count": 21,
   "id": "b2b9d3bf",
   "metadata": {},
   "outputs": [
    {
     "name": "stdout",
     "output_type": "stream",
     "text": [
      "[[0.33103002 0.17070734]\n",
      " [0.38495703 0.18709968]]\n"
     ]
    }
   ],
   "source": [
    "random_arr = np.random.random((2,2,))\n",
    "print(random_arr)"
   ]
  },
  {
   "cell_type": "code",
   "execution_count": 23,
   "id": "eab02038",
   "metadata": {},
   "outputs": [
    {
     "name": "stdout",
     "output_type": "stream",
     "text": [
      "[[1. 0. 0.]\n",
      " [0. 1. 0.]\n",
      " [0. 0. 1.]]\n"
     ]
    }
   ],
   "source": [
    "#identity Matrix\n",
    "identity = np.eye(3)\n",
    "print(identity)"
   ]
  },
  {
   "cell_type": "code",
   "execution_count": 26,
   "id": "809fe57f",
   "metadata": {},
   "outputs": [
    {
     "name": "stdout",
     "output_type": "stream",
     "text": [
      "[0 2 4 6 8]\n"
     ]
    }
   ],
   "source": [
    "#array range values\n",
    "ra = np.arange(0,10,2)\n",
    "print(ra)"
   ]
  },
  {
   "cell_type": "code",
   "execution_count": 56,
   "id": "b3156967",
   "metadata": {},
   "outputs": [
    {
     "name": "stdout",
     "output_type": "stream",
     "text": [
      "[[ 2  3  4]\n",
      " [22 23 24]]\n",
      "2\n",
      "24\n",
      "(2, 4)\n",
      "8\n",
      "int32\n",
      "2\n"
     ]
    }
   ],
   "source": [
    "arr_2d = np.array([[1,2,3,4],[20,22,23,24]])\n",
    "print(arr_2d[:,1:])\n",
    "print(arr_2d[0,1])\n",
    "print(arr_2d[1,-1])\n",
    "print(arr_2d.shape)\n",
    "print(arr_2d.size)\n",
    "print(arr_2d.dtype)\n",
    "print(arr_2d.ndim)"
   ]
  },
  {
   "cell_type": "code",
   "execution_count": 65,
   "id": "4ec95fcb",
   "metadata": {},
   "outputs": [
    {
     "name": "stdout",
     "output_type": "stream",
     "text": [
      "[34 36 38 40 42 44]\n"
     ]
    }
   ],
   "source": [
    "arr1 = np.array([11,12,13,14,15,16])\n",
    "arr2 = np.array([23,24,25,26,27,28])\n",
    "c = arr1 + arr2\n",
    "print(c)"
   ]
  },
  {
   "cell_type": "code",
   "execution_count": 63,
   "id": "6635d7d0",
   "metadata": {},
   "outputs": [
    {
     "name": "stdout",
     "output_type": "stream",
     "text": [
      "[253 288 325 364 405 448]\n"
     ]
    }
   ],
   "source": [
    "arr1 = np.array([11,12,13,14,15,16])\n",
    "arr2 = np.array([23,24,25,26,27,28])\n",
    "c = arr1*arr2\n",
    "print(c)"
   ]
  },
  {
   "cell_type": "code",
   "execution_count": 71,
   "id": "bb4c5921",
   "metadata": {},
   "outputs": [
    {
     "data": {
      "text/plain": [
       "array([[16, 40, 72],\n",
       "       [ 9, 33, 91],\n",
       "       [ 2, 10, 21]])"
      ]
     },
     "execution_count": 71,
     "metadata": {},
     "output_type": "execute_result"
    }
   ],
   "source": [
    "a = np.array([[2,4,6],[1,3,7],[1,2,3]])\n",
    "b = np.array([[8,10,12],[9,11,13],[2,5,7]])\n",
    "c = a*b\n",
    "c"
   ]
  },
  {
   "cell_type": "code",
   "execution_count": 76,
   "id": "75b8e3e4",
   "metadata": {},
   "outputs": [
    {
     "data": {
      "text/plain": [
       "array([[ 64,  94, 118],\n",
       "       [ 49,  78, 100],\n",
       "       [ 32,  47,  59]])"
      ]
     },
     "execution_count": 76,
     "metadata": {},
     "output_type": "execute_result"
    }
   ],
   "source": [
    "a = np.array([[2,4,6],[1,3,7],[1,2,3]])\n",
    "b = np.array([[8,10,12],[9,11,13],[2,5,7]])\n",
    "c = np.dot(a,b)\n",
    "c"
   ]
  },
  {
   "cell_type": "code",
   "execution_count": 85,
   "id": "1408fb09",
   "metadata": {},
   "outputs": [
    {
     "data": {
      "text/plain": [
       "Text(0, 0.5, 'y-axis')"
      ]
     },
     "execution_count": 85,
     "metadata": {},
     "output_type": "execute_result"
    },
    {
     "data": {
      "image/png": "[encoded data removed]",
      "text/plain": [
       "<Figure size 640x480 with 1 Axes>"
      ]
     },
     "metadata": {},
     "output_type": "display_data"
    }
   ],
   "source": [
    "plt.plot(a,b)\n",
    "plt.title('A vs B')\n",
    "plt.xlabel('x-axis')\n",
    "plt.ylabel('y-axis')"
   ]
  },
  {
   "cell_type": "code",
   "execution_count": 89,
   "id": "7c116bfe",
   "metadata": {},
   "outputs": [
    {
     "name": "stdout",
     "output_type": "stream",
     "text": [
      "Exponential:[  59874.1417152   162754.791419    442413.39200892 1202604.28416478\n",
      " 3269017.37247211 8886110.52050787]\n",
      "squre Root:[3.31662479 3.46410162 3.60555128 3.74165739 3.87298335 4.        ]\n",
      "og value[2.39789527 2.48490665 2.56494936 2.63905733 2.7080502  2.77258872]\n"
     ]
    }
   ],
   "source": [
    "print(f\"Exponential:{np.exp(arr1)}\")\n",
    "print(f\"squre Root:{np.sqrt(arr1)}\")\n",
    "print(f\"og value{np.log(arr1)}\")"
   ]
  },
  {
   "cell_type": "code",
   "execution_count": 90,
   "id": "7c01d527",
   "metadata": {},
   "outputs": [
    {
     "name": "stdout",
     "output_type": "stream",
     "text": [
      "81\n",
      "13.5\n",
      "11\n",
      "16\n",
      "1.707825127659933\n"
     ]
    }
   ],
   "source": [
    "#Aggregate functions\n",
    "print(np.sum(arr1))\n",
    "print(np.mean(arr1))\n",
    "print(np.min(arr1))\n",
    "print(np.max(arr1))\n",
    "print(np.std(arr1))"
   ]
  },
  {
   "cell_type": "code",
   "execution_count": 94,
   "id": "7104f9f4",
   "metadata": {},
   "outputs": [
    {
     "data": {
      "text/plain": [
       "array([[1, 2, 3],\n",
       "       [4, 5, 6],\n",
       "       [7, 8, 9]])"
      ]
     },
     "execution_count": 94,
     "metadata": {},
     "output_type": "execute_result"
    }
   ],
   "source": [
    "#Reshaping the Array\n",
    "ar = np.array([1,2,3,4,5,6,7,8,9])\n",
    "re = ar.reshape(3,3)\n",
    "re"
   ]
  },
  {
   "cell_type": "code",
   "execution_count": 97,
   "id": "af5daf7b",
   "metadata": {},
   "outputs": [
    {
     "name": "stdout",
     "output_type": "stream",
     "text": [
      "[[1 2]\n",
      " [3 4]]\n",
      "[1 2 3 4]\n"
     ]
    }
   ],
   "source": [
    "c = np.array([1,2])\n",
    "d =np.array([3,4])\n",
    "print(np.vstack((c,d)))\n",
    "print(np.hstack((c,d)))"
   ]
  },
  {
   "cell_type": "code",
   "execution_count": 100,
   "id": "aefe244b",
   "metadata": {},
   "outputs": [
    {
     "name": "stdout",
     "output_type": "stream",
     "text": [
      "[array([1, 2, 3]), array([4, 5, 6]), array([7, 8, 9])]\n"
     ]
    }
   ],
   "source": [
    "m = np.array([1,2,3,4,5,6,7,8,9])\n",
    "print(np.array_split(m,3))"
   ]
  },
  {
   "cell_type": "code",
   "execution_count": 101,
   "id": "10cdbfee",
   "metadata": {},
   "outputs": [
    {
     "name": "stdout",
     "output_type": "stream",
     "text": [
      "[10  2  3  4  5  6  7  8  9]\n"
     ]
    }
   ],
   "source": [
    "m = np.array([1,2,3,4,5,6,7,8,9])\n",
    "view = m.view()#view shares memory\n",
    "view[0] = 10\n",
    "print(m)"
   ]
  },
  {
   "cell_type": "code",
   "execution_count": 103,
   "id": "f66ec2ca",
   "metadata": {},
   "outputs": [
    {
     "name": "stdout",
     "output_type": "stream",
     "text": [
      "[1 2 3 4 5 6 7 8 9]\n"
     ]
    }
   ],
   "source": [
    "m = np.array([1,2,3,4,5,6,7,8,9])\n",
    "copy = m.copy()#copy doesnt share memory shares memory\n",
    "copy[0] = 10\n",
    "print(m)"
   ]
  },
  {
   "cell_type": "code",
   "execution_count": 104,
   "id": "be9426f1",
   "metadata": {},
   "outputs": [],
   "source": [
    "#saving and the loading\n",
    "arr = np.array([1,2,3])\n",
    "np.save('array.npy',arr)"
   ]
  },
  {
   "cell_type": "code",
   "execution_count": 105,
   "id": "24f488f5",
   "metadata": {},
   "outputs": [
    {
     "name": "stdout",
     "output_type": "stream",
     "text": [
      "[1 2 3]\n"
     ]
    }
   ],
   "source": [
    "loaded_arr = np.load('array.npy')\n",
    "print(loaded_arr)"
   ]
  },
  {
   "cell_type": "code",
   "execution_count": null,
   "id": "c322979f",
   "metadata": {},
   "outputs": [],
   "source": []
  }
 ],
 "metadata": {
  "kernelspec": {
   "display_name": "Python 3 (ipykernel)",
   "language": "python",
   "name": "python3"
  },
  "language_info": {
   "codemirror_mode": {
    "name": "ipython",
    "version": 3
   },
   "file_extension": ".py",
   "mimetype": "text/x-python",
   "name": "python",
   "nbconvert_exporter": "python",
   "pygments_lexer": "ipython3",
   "version": "3.11.5"
  }
 },
 "nbformat": 4,
 "nbformat_minor": 5
}
